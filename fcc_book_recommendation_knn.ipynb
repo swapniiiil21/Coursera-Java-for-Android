{
  "cells": [
    {
      "cell_type": "code",
      "execution_count": null,
      "metadata": {
        "id": "Y1onB6kUvo4Z"
      },
      "outputs": [],
      "source": [
        "# import libraries (you may add additional imports but you may not have to)\n",
        "import numpy as np\n",
        "import pandas as pd\n",
        "from scipy.sparse import csr_matrix\n",
        "from sklearn.neighbors import NearestNeighbors\n",
        "import matplotlib.pyplot as plt"
      ]
    },
    {
      "cell_type": "code",
      "execution_count": null,
      "metadata": {
        "id": "iAQGqqO_vo4d"
      },
      "outputs": [],
      "source": [
        "# get data files\n",
        "!wget https://cdn.freecodecamp.org/project-data/books/book-crossings.zip\n",
        "\n",
        "!unzip book-crossings.zip\n",
        "\n",
        "books_filename = 'BX-Books.csv'\n",
        "ratings_filename = 'BX-Book-Ratings.csv'"
      ]
    },
    {
      "cell_type": "code",
      "execution_count": null,
      "metadata": {
        "id": "NClILWOiEd6Q"
      },
      "outputs": [],
      "source": [
        "# import csv data into dataframes\n",
        "df_books = pd.read_csv(\n",
        "    books_filename,\n",
        "    encoding = \"ISO-8859-1\",\n",
        "    sep=\";\",\n",
        "    header=0,\n",
        "    names=['isbn', 'title', 'author'],\n",
        "    usecols=['isbn', 'title', 'author'],\n",
        "    dtype={'isbn': 'str', 'title': 'str', 'author': 'str'})\n",
        "\n",
        "df_ratings = pd.read_csv(\n",
        "    ratings_filename,\n",
        "    encoding = \"ISO-8859-1\",\n",
        "    sep=\";\",\n",
        "    header=0,\n",
        "    names=['user', 'isbn', 'rating'],\n",
        "    usecols=['user', 'isbn', 'rating'],\n",
        "    dtype={'user': 'int32', 'isbn': 'str', 'rating': 'float32'})"
      ]
    },
    {
      "cell_type": "code",
      "execution_count": null,
      "metadata": {
        "id": "xAcXjkCFCh0A"
      },
      "outputs": [],
      "source": [
        "# add your code here - consider creating a new cell for each section of code\n",
        "# Filter users with at least 200 ratings\n",
        "user_counts = df_ratings['user'].value_counts()\n",
        "filtered_users = user_counts[user_counts >= 200].index\n",
        "\n",
        "# Filter books with at least 100 ratings\n",
        "book_counts = df_ratings['isbn'].value_counts()\n",
        "filtered_books = book_counts[book_counts >= 100].index\n",
        "\n",
        "# Filter ratings dataframe accordingly\n",
        "ratings_filtered = df_ratings[\n",
        "    (df_ratings['user'].isin(filtered_users)) &\n",
        "    (df_ratings['isbn'].isin(filtered_books))\n",
        "]\n"
      ]
    },
    {
      "cell_type": "code",
      "execution_count": null,
      "metadata": {
        "id": "f5ZUd-L1SQz7"
      },
      "outputs": [],
      "source": [
        "# function to return recommended books - this will be tested\n",
        "def get_recommends(book=\"\"):\n",
        "    # Create pivot table: books x users, fill NaNs with 0\n",
        "    book_user_matrix = ratings_filtered.pivot(index='isbn', columns='user', values='rating').fillna(0)\n",
        "\n",
        "    # Sparse matrix for KNN\n",
        "    book_user_sparse = csr_matrix(book_user_matrix.values)\n",
        "\n",
        "    # Fit KNN model with cosine metric\n",
        "    knn_model = NearestNeighbors(metric='cosine', algorithm='brute')\n",
        "    knn_model.fit(book_user_sparse)\n",
        "\n",
        "    # Maps to convert isbn <-> title\n",
        "    isbn_to_title = dict(zip(df_books['isbn'], df_books['title']))\n",
        "    title_to_isbn = dict(zip(df_books['title'], df_books['isbn']))\n",
        "\n",
        "    # Check if book exists\n",
        "    if book not in title_to_isbn:\n",
        "        return f\"Book '{book}' not found.\"\n",
        "\n",
        "    book_isbn = title_to_isbn[book]\n",
        "\n",
        "    # Check if book is in filtered matrix\n",
        "    if book_isbn not in book_user_matrix.index:\n",
        "        return f\"Book '{book}' does not have enough ratings.\"\n",
        "\n",
        "    # Find index of the book in pivot table\n",
        "    book_idx = book_user_matrix.index.get_loc(book_isbn)\n",
        "\n",
        "    # Get 6 neighbors (including itself)\n",
        "    distances, indices = knn_model.kneighbors(book_user_sparse[book_idx], n_neighbors=6)\n",
        "\n",
        "    # Build recommendations list, skipping the first (the book itself)\n",
        "    recommended_books = []\n",
        "    for i in range(1, 6):\n",
        "        idx = indices[0][i]\n",
        "        dist = distances[0][i]\n",
        "        rec_isbn = book_user_matrix.index[idx]\n",
        "        rec_title = isbn_to_title.get(rec_isbn, \"Unknown Title\")\n",
        "        recommended_books.append([rec_title, dist])\n",
        "\n",
        "    return [book, recommended_books]\n"
      ]
    },
    {
      "cell_type": "code",
      "execution_count": null,
      "metadata": {
        "id": "jd2SLCh8oxMh"
      },
      "outputs": [],
      "source": [
        "books = get_recommends(\"Where the Heart Is (Oprah's Book Club (Paperback))\")\n",
        "print(books)\n",
        "\n",
        "def test_book_recommendation():\n",
        "  test_pass = True\n",
        "  recommends = get_recommends(\"Where the Heart Is (Oprah's Book Club (Paperback))\")\n",
        "  if recommends[0] != \"Where the Heart Is (Oprah's Book Club (Paperback))\":\n",
        "    test_pass = False\n",
        "  recommended_books = [\"I'll Be Seeing You\", 'The Weight of Water', 'The Surgeon', 'I Know This Much Is True']\n",
        "  recommended_books_dist = [0.8, 0.77, 0.77, 0.77]\n",
        "  for i in range(2):\n",
        "    if recommends[1][i][0] not in recommended_books:\n",
        "      test_pass = False\n",
        "    if abs(recommends[1][i][1] - recommended_books_dist[i]) >= 0.05:\n",
        "      test_pass = False\n",
        "  if test_pass:\n",
        "    print(\"You passed the challenge! 🎉🎉🎉🎉🎉\")\n",
        "  else:\n",
        "    print(\"You haven't passed yet. Keep trying!\")\n",
        "\n",
        "test_book_recommendation()"
      ]
    }
  ],
  "metadata": {
    "colab": {
      "name": "fcc_book_recommendation_knn.ipynb",
      "provenance": []
    },
    "kernelspec": {
      "display_name": "Python 3",
      "language": "python",
      "name": "python3"
    },
    "language_info": {
      "codemirror_mode": {
        "name": "ipython",
        "version": 3
      },
      "file_extension": ".py",
      "mimetype": "text/x-python",
      "name": "python",
      "nbconvert_exporter": "python",
      "pygments_lexer": "ipython3",
      "version": "3.6.5"
    }
  },
  "nbformat": 4,
  "nbformat_minor": 0
}